{
  "nbformat": 4,
  "nbformat_minor": 0,
  "metadata": {
    "colab": {
      "provenance": [],
      "authorship_tag": "ABX9TyNYx+i3ws80boeIzVYtvdCQ",
      "include_colab_link": true
    },
    "kernelspec": {
      "name": "python3",
      "display_name": "Python 3"
    },
    "language_info": {
      "name": "python"
    }
  },
  "cells": [
    {
      "cell_type": "markdown",
      "metadata": {
        "id": "view-in-github",
        "colab_type": "text"
      },
      "source": [
        "<a href=\"https://colab.research.google.com/github/Aaira123/python-project/blob/main/calculator.ipynb\" target=\"_parent\"><img src=\"https://colab.research.google.com/assets/colab-badge.svg\" alt=\"Open In Colab\"/></a>"
      ]
    },
    {
      "cell_type": "code",
      "source": [
        "def Calculator(first_num,second_num,operation):\n",
        "    if operation == \"+\":\n",
        "      print(first_num + second_num)\n",
        "    elif operation == \"-\":\n",
        "      print(first_num - second_num)\n",
        "    elif operation == \"/\":\n",
        "      print(first_num / second_num)\n",
        "    elif operation == \"*\":\n",
        "      print(first_num * second_num)\n",
        "\n",
        "first = int(input(\"Enter a first number\"))\n",
        "second =int(input(\"Enter a second number\"))\n",
        "operation =input(\"Enter a operator\")\n",
        "Calculator(first,second,operation)"
      ],
      "metadata": {
        "colab": {
          "base_uri": "https://localhost:8080/"
        },
        "id": "ESyl6U1mpqaC",
        "outputId": "6a05fca7-406a-4e9d-89a2-c8c542a13dbb"
      },
      "execution_count": 12,
      "outputs": [
        {
          "output_type": "stream",
          "name": "stdout",
          "text": [
            "Enter a first number10\n",
            "Enter a second number2\n",
            "Enter a operator/\n",
            "5.0\n"
          ]
        }
      ]
    }
  ]
}