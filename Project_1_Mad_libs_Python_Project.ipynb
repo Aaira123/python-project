{
  "nbformat": 4,
  "nbformat_minor": 0,
  "metadata": {
    "colab": {
      "provenance": [],
      "authorship_tag": "ABX9TyPzqMREcydbaOTENsqb2j2F",
      "include_colab_link": true
    },
    "kernelspec": {
      "name": "python3",
      "display_name": "Python 3"
    },
    "language_info": {
      "name": "python"
    }
  },
  "cells": [
    {
      "cell_type": "markdown",
      "metadata": {
        "id": "view-in-github",
        "colab_type": "text"
      },
      "source": [
        "<a href=\"https://colab.research.google.com/github/Aaira123/python-project/blob/main/Project_1_Mad_libs_Python_Project.ipynb\" target=\"_parent\"><img src=\"https://colab.research.google.com/assets/colab-badge.svg\" alt=\"Open In Colab\"/></a>"
      ]
    },
    {
      "cell_type": "code",
      "execution_count": null,
      "metadata": {
        "id": "4K8uMJ7CVyqM"
      },
      "outputs": [],
      "source": [
        "def Madlibs():\n",
        "  name = str(input(\"Enter Your Name..\"))\n",
        "  verb = str(input(\"Enter Your Verb..\"))\n",
        "  animal = str(input(\"plz enter a animal name..\"))\n",
        "  city = str(input(\"City Name..\"))\n",
        "  adjective = str(input(\"Enter adjective ..\"))\n",
        "\n",
        "  story = f\"Ek din, {name} {city} gayi. Wahan usne ek {adjective} {animal} dekha jo {verb} raha tha. Ye dekh kar,{name} bohut hairan hui!\"\n",
        "  print(story)\n",
        "Madlibs()"
      ]
    }
  ]
}